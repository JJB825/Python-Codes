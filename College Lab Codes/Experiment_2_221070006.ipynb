{
  "nbformat": 4,
  "nbformat_minor": 0,
  "metadata": {
    "colab": {
      "provenance": []
    },
    "kernelspec": {
      "name": "python3",
      "display_name": "Python 3"
    },
    "language_info": {
      "name": "python"
    }
  },
  "cells": [
    {
      "cell_type": "code",
      "execution_count": null,
      "metadata": {
        "colab": {
          "base_uri": "https://localhost:8080/"
        },
        "id": "FjuPobF1a7xo",
        "outputId": "575089f6-971a-47d0-b3d6-c2b9ad043c2f"
      },
      "outputs": [
        {
          "output_type": "stream",
          "name": "stdout",
          "text": [
            "[4, 16, 36, 64, 100]\n"
          ]
        }
      ],
      "source": [
        "square=[i**2 for i in range(1,11) if i%2==0]\n",
        "print(square)"
      ]
    },
    {
      "cell_type": "code",
      "source": [
        "three=[i for i in range (30) if i%3==0]\n",
        "six=[i for i in three if i%6==0]\n",
        "print(three,six)"
      ],
      "metadata": {
        "colab": {
          "base_uri": "https://localhost:8080/"
        },
        "id": "bgRRw02drphE",
        "outputId": "71f347bb-af91-4a08-fa46-24c2e106d2b8"
      },
      "execution_count": null,
      "outputs": [
        {
          "output_type": "stream",
          "name": "stdout",
          "text": [
            "[0, 3, 6, 9, 12, 15, 18, 21, 24, 27] [0, 6, 12, 18, 24]\n"
          ]
        }
      ]
    },
    {
      "cell_type": "code",
      "source": [
        "matrix=[[i for i in range(i,i+3)] for i in range(1,8,3)]\n",
        "print(matrix)\n",
        "transpose=[[i[j] for i in matrix] for j in range(len(matrix[0]))]\n",
        "print(transpose)"
      ],
      "metadata": {
        "colab": {
          "base_uri": "https://localhost:8080/"
        },
        "id": "5QmKbuHnxls3",
        "outputId": "cc551259-729c-4ab2-a933-5a39dec5f77c"
      },
      "execution_count": null,
      "outputs": [
        {
          "output_type": "stream",
          "name": "stdout",
          "text": [
            "[[1, 2, 3], [4, 5, 6], [7, 8, 9]]\n",
            "[[1, 4, 7], [2, 5, 8], [3, 6, 9]]\n"
          ]
        }
      ]
    }
  ]
}