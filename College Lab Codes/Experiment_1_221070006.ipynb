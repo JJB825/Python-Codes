{
  "nbformat": 4,
  "nbformat_minor": 0,
  "metadata": {
    "colab": {
      "provenance": []
    },
    "kernelspec": {
      "name": "python3",
      "display_name": "Python 3"
    },
    "language_info": {
      "name": "python"
    }
  },
  "cells": [
    {
      "cell_type": "code",
      "execution_count": null,
      "metadata": {
        "colab": {
          "base_uri": "https://localhost:8080/"
        },
        "id": "Q5Ie_HvHbCd8",
        "outputId": "026b9870-0ba0-405f-a58a-5dbba032feaf"
      },
      "outputs": [
        {
          "output_type": "stream",
          "name": "stdout",
          "text": [
            "Enter a number: 45\n",
            "The square root of 45.0 is 6.71\n"
          ]
        }
      ],
      "source": [
        "import math\n",
        "\n",
        "def main():\n",
        "    num = float(input(\"Enter a number: \"))\n",
        "\n",
        "    if num < 0:\n",
        "        print(\"Cannot find square root of a negative number.\")\n",
        "    else:\n",
        "        sqrt = math.sqrt(num)\n",
        "        print(f\"The square root of {num} is {sqrt:.2f}\")\n",
        "\n",
        "if __name__ == \"__main__\":\n",
        "    main()\n"
      ]
    },
    {
      "cell_type": "code",
      "source": [
        "def array_sum_recursive(arr, index):\n",
        "    if index == 0:\n",
        "        return arr[index]\n",
        "    else:\n",
        "        return arr[index] + array_sum_recursive(arr, index - 1)\n",
        "\n",
        "def main():\n",
        "    arr = [int(x) for x in input(\"Enter elements of the array separated by spaces: \").split()]\n",
        "    total_sum = array_sum_recursive(arr, len(arr) - 1)\n",
        "    print(f\"The sum of the elements in the array is {total_sum}\")\n",
        "\n",
        "if __name__ == \"__main__\":\n",
        "    main()\n"
      ],
      "metadata": {
        "colab": {
          "base_uri": "https://localhost:8080/"
        },
        "id": "ryIPUlIGb9CU",
        "outputId": "47b92c8d-43ee-4695-8c49-2fab183b815f"
      },
      "execution_count": null,
      "outputs": [
        {
          "output_type": "stream",
          "name": "stdout",
          "text": [
            "Enter elements of the array separated by spaces: 3 7 5 1 8\n",
            "The sum of the elements in the array is 24\n"
          ]
        }
      ]
    },
    {
      "cell_type": "code",
      "source": [
        "def fibonacci_series(n):\n",
        "    fib_series = [0, 1]  # Initialize the series with the first two Fibonacci numbers\n",
        "\n",
        "    for i in range(2, n):\n",
        "        next_fib = fib_series[i - 1] + fib_series[i - 2]\n",
        "        fib_series.append(next_fib)\n",
        "\n",
        "    return fib_series\n",
        "\n",
        "def main():\n",
        "    n = int(input(\"Enter the number of terms in the Fibonacci series: \"))\n",
        "\n",
        "    if n <= 0:\n",
        "        print(\"Number of terms should be a positive integer.\")\n",
        "    else:\n",
        "        fib_series = fibonacci_series(n)\n",
        "        print(\"Fibonacci Series:\")\n",
        "        for num in fib_series:\n",
        "            print(num, end=\" \")\n",
        "\n",
        "if __name__ == \"__main__\":\n",
        "    main()\n"
      ],
      "metadata": {
        "colab": {
          "base_uri": "https://localhost:8080/"
        },
        "id": "w7oE6I_JeFEM",
        "outputId": "4d51147a-bb71-46fd-82f5-6beceac66857"
      },
      "execution_count": null,
      "outputs": [
        {
          "output_type": "stream",
          "name": "stdout",
          "text": [
            "Enter the number of terms in the Fibonacci series: 6\n",
            "Fibonacci Series:\n",
            "0 1 1 2 3 5 "
          ]
        }
      ]
    },
    {
      "cell_type": "code",
      "source": [
        "def is_prime(num):\n",
        "    if num <= 1:\n",
        "        return False\n",
        "    for i in range(2, int(num**0.5) + 1):\n",
        "        if num % i == 0:\n",
        "            return False\n",
        "    return True\n",
        "\n",
        "def find_prime_numbers(arr):\n",
        "    prime_numbers = []\n",
        "    for num in arr:\n",
        "        if is_prime(num):\n",
        "            prime_numbers.append(num)\n",
        "    return prime_numbers\n",
        "\n",
        "def main():\n",
        "    arr = [int(x) for x in input(\"Enter numbers separated by spaces: \").split()]\n",
        "    prime_numbers = find_prime_numbers(arr)\n",
        "\n",
        "    if prime_numbers:\n",
        "        print(\"Prime numbers in the array:\", prime_numbers)\n",
        "    else:\n",
        "        print(\"No prime numbers found in the array.\")\n",
        "\n",
        "if __name__ == \"__main__\":\n",
        "    main()\n"
      ],
      "metadata": {
        "colab": {
          "base_uri": "https://localhost:8080/"
        },
        "id": "e655LcwQebSi",
        "outputId": "a2d5629e-48a2-4d5c-c410-3888558b69b2"
      },
      "execution_count": null,
      "outputs": [
        {
          "output_type": "stream",
          "name": "stdout",
          "text": [
            "Enter numbers separated by spaces: 2 4 5 3 6 8\n",
            "Prime numbers in the array: [2, 5, 3]\n"
          ]
        }
      ]
    }
  ]
}