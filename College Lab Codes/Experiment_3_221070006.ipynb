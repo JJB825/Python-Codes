{
  "nbformat": 4,
  "nbformat_minor": 0,
  "metadata": {
    "colab": {
      "provenance": []
    },
    "kernelspec": {
      "name": "python3",
      "display_name": "Python 3"
    },
    "language_info": {
      "name": "python"
    }
  },
  "cells": [
    {
      "cell_type": "code",
      "execution_count": 7,
      "metadata": {
        "colab": {
          "base_uri": "https://localhost:8080/"
        },
        "id": "GvC-0mChekXm",
        "outputId": "2d38929b-487e-440e-935e-49cbd53334b8"
      },
      "outputs": [
        {
          "output_type": "stream",
          "name": "stdout",
          "text": [
            "Initial List : [1, 2, 3, 4, 5]\n",
            "Even List : [1, 4, 3, 8, 5]\n",
            "Odd List : [2, 2, 6, 4, 10]\n"
          ]
        }
      ],
      "source": [
        "initial=[i for i in range(1,6)]\n",
        "#The even list doubles the even numbers in given list using map() function.\n",
        "even=list(map(lambda x:x*2 if x%2==0 else x,initial))\n",
        "#The odd list doubles the odd numbers in given list using map() function.\n",
        "odd=list(map(lambda x:x*2 if x%2==1 else x,initial))\n",
        "#printing initial list\n",
        "print('Initial List :',initial)\n",
        "#printing even list\n",
        "print('Even List :',even)\n",
        "#printing odd list\n",
        "print('Odd List :',odd)"
      ]
    },
    {
      "cell_type": "code",
      "source": [
        "my_floats=[4.35, 6.09, 3.25, 9.77, 2.16, 8.88, 4.59]\n",
        "#Creating a list of squares of numbers in given list rounded off to three places using map() function.\n",
        "print('Squares of above numbers are :',list(map(lambda x:round(x**2,3),my_floats)))"
      ],
      "metadata": {
        "colab": {
          "base_uri": "https://localhost:8080/"
        },
        "id": "CMPXLTRzesf-",
        "outputId": "8cb05b1f-dedd-40d9-a602-f21b7f92f597"
      },
      "execution_count": 8,
      "outputs": [
        {
          "output_type": "stream",
          "name": "stdout",
          "text": [
            "Squares of above numbers are : [18.922, 37.088, 10.562, 95.453, 4.666, 78.854, 21.068]\n"
          ]
        }
      ]
    },
    {
      "cell_type": "code",
      "source": [
        "my_names=[\"olumide\", \"akinremi\", \"josiah\", \"temidayo\", \"omoseun\"]\n",
        "#selecting only those elements having length <= 7 using filter() function\n",
        "print('Names containing less than or equal to seven letters :',list(filter(lambda x:len(x)<=7,my_names)))"
      ],
      "metadata": {
        "colab": {
          "base_uri": "https://localhost:8080/"
        },
        "id": "DKyozwabevB7",
        "outputId": "2e663917-430e-4f90-b16f-7f4e1ee54458"
      },
      "execution_count": 3,
      "outputs": [
        {
          "output_type": "stream",
          "name": "stdout",
          "text": [
            "['olumide', 'josiah', 'omoseun']\n"
          ]
        }
      ]
    },
    {
      "cell_type": "code",
      "source": [
        "#Finding sum of odd and even numbers in a given list using filter() function.\n",
        "seq=[0, 1, 2, 3, 5, 8, 13]\n",
        "even=list(filter(lambda x:x%2==0,seq))\n",
        "odd=list(filter(lambda x:x%2==1,seq))\n",
        "sum_even=0\n",
        "sum_odd=0\n",
        "for i in even:\n",
        "    sum_even+=i\n",
        "for i in odd:\n",
        "    sum_odd+=i\n",
        "print('Sum of even numbers in the sequence is :',sum_even)\n",
        "print('Sum of odd numbers in the sequence is :',sum_odd)"
      ],
      "metadata": {
        "colab": {
          "base_uri": "https://localhost:8080/"
        },
        "id": "m1cYjO0Vezd8",
        "outputId": "d885ebd0-36b7-49e8-b3c1-58116f9bf243"
      },
      "execution_count": 4,
      "outputs": [
        {
          "output_type": "stream",
          "name": "stdout",
          "text": [
            "Sum of even numbers in the sequence is : 10\n",
            "Sum of odd numbers in the sequence is : 22\n"
          ]
        }
      ]
    },
    {
      "cell_type": "code",
      "source": [
        "#Finding factorial of a function using reduce() function.\n",
        "from functools import reduce\n",
        "try:\n",
        "    a=int(input('Enter a number : '))\n",
        "except:\n",
        "    print('Enter valid number')\n",
        "numbers=[i for i in range(1,a+1)]\n",
        "factorial=reduce(lambda x,y:x*y,numbers)\n",
        "print('Factorial of',a,'is',factorial)"
      ],
      "metadata": {
        "colab": {
          "base_uri": "https://localhost:8080/"
        },
        "id": "7wSgI-2je2sC",
        "outputId": "54344c6a-72a0-482b-e514-7b8cf0b5e2c9"
      },
      "execution_count": 5,
      "outputs": [
        {
          "output_type": "stream",
          "name": "stdout",
          "text": [
            "Enter a number : 6\n",
            "Factorial of 6 is 720\n"
          ]
        }
      ]
    }
  ]
}