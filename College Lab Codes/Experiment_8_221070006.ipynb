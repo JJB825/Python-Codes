{
  "nbformat": 4,
  "nbformat_minor": 0,
  "metadata": {
    "colab": {
      "provenance": []
    },
    "kernelspec": {
      "name": "python3",
      "display_name": "Python 3"
    },
    "language_info": {
      "name": "python"
    }
  },
  "cells": [
    {
      "cell_type": "code",
      "source": [
        "import sqlite3\n",
        "conn = sqlite3.connect(\"test10.db\")\n",
        "cur = conn.cursor()"
      ],
      "metadata": {
        "id": "H6ru7FsSAoHD"
      },
      "execution_count": 20,
      "outputs": []
    },
    {
      "cell_type": "code",
      "source": [
        "c1 = \"\"\"CREATE TABLE IF NOT EXISTS\n",
        "Student(studentId INTEGER PRIMARY KEY NOT NULL, name TEXT NOT NULL, surname TEXT NOT NULL);\"\"\"\n",
        "cur.execute(c1)"
      ],
      "metadata": {
        "colab": {
          "base_uri": "https://localhost:8080/"
        },
        "id": "RjKtPMTAAsU9",
        "outputId": "9c53745a-d826-4290-b078-743346cbbce2"
      },
      "execution_count": 3,
      "outputs": [
        {
          "output_type": "execute_result",
          "data": {
            "text/plain": [
              "<sqlite3.Cursor at 0x79547c31c840>"
            ]
          },
          "metadata": {},
          "execution_count": 3
        }
      ]
    },
    {
      "cell_type": "code",
      "source": [
        "c2 = \"\"\"CREATE TABLE IF NOT EXISTS\n",
        "Subject(code TEXT NOT NULL, name TEXT PRIMARY KEY  NOT NULL, faculty_name TEXT, total_marks INTEGER NOT NULL);\"\"\"\n",
        "cur.execute(c2)"
      ],
      "metadata": {
        "colab": {
          "base_uri": "https://localhost:8080/"
        },
        "id": "L-HTn8N4AudX",
        "outputId": "0270a767-e789-43b0-844f-5d603a22c7e1"
      },
      "execution_count": 4,
      "outputs": [
        {
          "output_type": "execute_result",
          "data": {
            "text/plain": [
              "<sqlite3.Cursor at 0x79547c31c840>"
            ]
          },
          "metadata": {},
          "execution_count": 4
        }
      ]
    },
    {
      "cell_type": "code",
      "source": [
        "cur.execute(\"INSERT INTO Student VALUES (6, 'Jishnu','Bandodkar')\")\n",
        "cur.execute(\"INSERT INTO Student VALUES (46, 'Mihir','Pandit')\")\n",
        "cur.execute(\"INSERT INTO Student VALUES (3, 'Aryan','Nanda')\")\n",
        "cur.execute(\"INSERT INTO Student VALUES (20, 'Tanay','Gada')\")\n",
        "cur.execute(\"INSERT INTO Student VALUES (9, 'Mohammed','Bhadsorawala')\")\n",
        "cur.execute(\"INSERT INTO Student VALUES (70, 'Varun','Sriram')\")\n",
        "cur.execute(\"INSERT INTO Student VALUES (73, 'Param','Thakkar')\")\n",
        "cur.execute(\"INSERT INTO Student VALUES (67, 'Anish','Singh')\")\n",
        "conn.commit()\n",
        "print(\"Student Table created\")"
      ],
      "metadata": {
        "colab": {
          "base_uri": "https://localhost:8080/"
        },
        "id": "AZp8KqedAzFj",
        "outputId": "15638d2b-7521-4178-efcd-0c84298debf8"
      },
      "execution_count": 5,
      "outputs": [
        {
          "output_type": "stream",
          "name": "stdout",
          "text": [
            "Student Table created\n"
          ]
        }
      ]
    },
    {
      "cell_type": "code",
      "source": [
        "cur.execute(\"INSERT INTO Subject VALUES ('R4MA2007S', 'Linear Algebra', 'Sagar Rawool', 40)\")\n",
        "cur.execute(\"INSERT INTO Subject VALUES ('R4CO2001T', 'Discrete Mathematics and Applications', 'Sandip Shingade', 40)\")\n",
        "cur.execute(\"INSERT INTO Subject VALUES ('R4CO2002S', 'Digital Logic and Design', 'Varshapriya Jyotinagar', 40)\")\n",
        "cur.execute(\"INSERT INTO Subject VALUES ('R4CO2003T', 'Data Structures and Algorithms', 'Mansi Kulkarni', 40)\")\n",
        "cur.execute(\"INSERT INTO Subject VALUES ('R4CO2004S', 'Computer Organization and Architecture', 'Sachin Khedkar', 40)\")\n",
        "conn.commit()\n",
        "print(\"Subject Table created\")"
      ],
      "metadata": {
        "colab": {
          "base_uri": "https://localhost:8080/"
        },
        "id": "VnlCEDguAzGn",
        "outputId": "e6ec7af9-0bd7-4408-a0cf-fbcf14ac9118"
      },
      "execution_count": 6,
      "outputs": [
        {
          "output_type": "stream",
          "name": "stdout",
          "text": [
            "Subject Table created\n"
          ]
        }
      ]
    },
    {
      "cell_type": "code",
      "source": [
        "c3 = \"\"\"CREATE TABLE IF NOT EXISTS\n",
        "Marks(id INTEGER NOT NULL, subject TEXT NOT NULL, marks INTEGER,\n",
        "CONSTRAINT fk_Student_studentId FOREIGN KEY (id) REFERENCES Student(studentId),\n",
        "CONSTRAINT fk_Subject_name FOREIGN KEY (subject) REFERENCES Subject(name));\"\"\"\n",
        "cur.execute(c3)"
      ],
      "metadata": {
        "colab": {
          "base_uri": "https://localhost:8080/"
        },
        "id": "0k8J9rXYA_EO",
        "outputId": "3c44188d-3c1c-4f4e-8ca2-316e5ed0d248"
      },
      "execution_count": 21,
      "outputs": [
        {
          "output_type": "execute_result",
          "data": {
            "text/plain": [
              "<sqlite3.Cursor at 0x79544b951740>"
            ]
          },
          "metadata": {},
          "execution_count": 21
        }
      ]
    },
    {
      "cell_type": "code",
      "source": [
        "cur.execute(\"INSERT INTO Marks VALUES (6, 'Linear Algebra', 35)\")\n",
        "cur.execute(\"INSERT INTO Marks VALUES (6, 'Discrete Mathematics and Applications', 30)\")\n",
        "cur.execute(\"INSERT INTO Marks VALUES (6, 'Digital Logic and Design', 38)\")\n",
        "cur.execute(\"INSERT INTO Marks VALUES (6, 'Data Structures and Algorithms', 30)\")\n",
        "cur.execute(\"INSERT INTO Marks VALUES (6, 'Computer Organization and Architecture', 10)\")\n",
        "cur.execute(\"INSERT INTO Marks VALUES (46, 'Linear Algebra', 37)\")\n",
        "cur.execute(\"INSERT INTO Marks VALUES (46, 'Discrete Mathematics and Applications', 40)\")\n",
        "cur.execute(\"INSERT INTO Marks VALUES (46, 'Digital Logic and Design', 40)\")\n",
        "cur.execute(\"INSERT INTO Marks VALUES (46, 'Data Structures and Algorithms', 40)\")\n",
        "cur.execute(\"INSERT INTO Marks VALUES (46, 'Computer Organization and Architecture', 30)\")\n",
        "cur.execute(\"INSERT INTO Marks VALUES (3, 'Linear Algebra', 37)\")\n",
        "cur.execute(\"INSERT INTO Marks VALUES (3, 'Discrete Mathematics and Applications', 35)\")\n",
        "cur.execute(\"INSERT INTO Marks VALUES (3, 'Digital Logic and Design', 40)\")\n",
        "cur.execute(\"INSERT INTO Marks VALUES (3, 'Data Structures and Algorithms', 40)\")\n",
        "cur.execute(\"INSERT INTO Marks VALUES (3, 'Computer Organization and Architecture', 25)\")\n",
        "cur.execute(\"INSERT INTO Marks VALUES (20, 'Linear Algebra', 37)\")\n",
        "cur.execute(\"INSERT INTO Marks VALUES (20, 'Discrete Mathematics and Applications', 35)\")\n",
        "cur.execute(\"INSERT INTO Marks VALUES (20, 'Digital Logic and Design', 40)\")\n",
        "cur.execute(\"INSERT INTO Marks VALUES (20, 'Data Structures and Algorithms', 37)\")\n",
        "cur.execute(\"INSERT INTO Marks VALUES (20, 'Computer Organization and Architecture', 20)\")\n",
        "cur.execute(\"INSERT INTO Marks VALUES (9, 'Linear Algebra', 35)\")\n",
        "cur.execute(\"INSERT INTO Marks VALUES (9, 'Discrete Mathematics and Applications', 35)\")\n",
        "cur.execute(\"INSERT INTO Marks VALUES (9, 'Digital Logic and Design', 40)\")\n",
        "cur.execute(\"INSERT INTO Marks VALUES (9, 'Data Structures and Algorithms', 39)\")\n",
        "cur.execute(\"INSERT INTO Marks VALUES (9, 'Computer Organization and Architecture', 30)\")\n",
        "cur.execute(\"INSERT INTO Marks VALUES (70, 'Linear Algebra', 40)\")\n",
        "cur.execute(\"INSERT INTO Marks VALUES (70, 'Discrete Mathematics and Applications', 40)\")\n",
        "cur.execute(\"INSERT INTO Marks VALUES (70, 'Digital Logic and Design', 40)\")\n",
        "cur.execute(\"INSERT INTO Marks VALUES (70, 'Data Structures and Algorithms', 38)\")\n",
        "cur.execute(\"INSERT INTO Marks VALUES (70, 'Computer Organization and Architecture', 35)\")\n",
        "cur.execute(\"INSERT INTO Marks VALUES (73, 'Linear Algebra', 37)\")\n",
        "cur.execute(\"INSERT INTO Marks VALUES (73, 'Discrete Mathematics and Applications', 35)\")\n",
        "cur.execute(\"INSERT INTO Marks VALUES (73, 'Digital Logic and Design', 40)\")\n",
        "cur.execute(\"INSERT INTO Marks VALUES (73, 'Data Structures and Algorithms', 37)\")\n",
        "cur.execute(\"INSERT INTO Marks VALUES (73, 'Computer Organization and Architecture', 20)\")\n",
        "cur.execute(\"INSERT INTO Marks VALUES (67, 'Linear Algebra', 40)\")\n",
        "cur.execute(\"INSERT INTO Marks VALUES (67, 'Discrete Mathematics and Applications', 40)\")\n",
        "cur.execute(\"INSERT INTO Marks VALUES (67, 'Digital Logic and Design', 40)\")\n",
        "cur.execute(\"INSERT INTO Marks VALUES (67, 'Data Structures and Algorithms', 40)\")\n",
        "cur.execute(\"INSERT INTO Marks VALUES (67, 'Computer Organization and Architecture', 25)\")\n",
        "conn.commit()\n",
        "print(\"Marks Table created\")"
      ],
      "metadata": {
        "colab": {
          "base_uri": "https://localhost:8080/"
        },
        "id": "XrC1sye9D3er",
        "outputId": "5a9887d0-11e0-4e9a-bb15-d9dfd0e890f3"
      },
      "execution_count": 22,
      "outputs": [
        {
          "output_type": "stream",
          "name": "stdout",
          "text": [
            "Marks Table created\n"
          ]
        }
      ]
    },
    {
      "cell_type": "code",
      "source": [
        "conn = sqlite3.connect(\"test9.db\")\n",
        "content = conn.execute('''SELECT * FROM Student''')\n",
        "for row in content:\n",
        "  print(row)"
      ],
      "metadata": {
        "colab": {
          "base_uri": "https://localhost:8080/"
        },
        "id": "XmR-YTpRIQnQ",
        "outputId": "5daf651b-3b96-4a9c-baf1-6a75a7914f11"
      },
      "execution_count": 9,
      "outputs": [
        {
          "output_type": "stream",
          "name": "stdout",
          "text": [
            "(3, 'Aryan', 'Nanda')\n",
            "(6, 'Jishnu', 'Bandodkar')\n",
            "(9, 'Mohammed', 'Bhadsorawala')\n",
            "(20, 'Tanay', 'Gada')\n",
            "(46, 'Mihir', 'Pandit')\n",
            "(67, 'Anish', 'Singh')\n",
            "(70, 'Varun', 'Sriram')\n",
            "(73, 'Param', 'Thakkar')\n"
          ]
        }
      ]
    },
    {
      "cell_type": "code",
      "source": [
        "cursor = conn.execute('''SELECT * FROM Subject''')\n",
        "for row in cursor:\n",
        "  print(row)"
      ],
      "metadata": {
        "colab": {
          "base_uri": "https://localhost:8080/"
        },
        "id": "ZiC93_PZIbbH",
        "outputId": "0da29251-d2f5-4f77-b8cd-f191a03beb6f"
      },
      "execution_count": 10,
      "outputs": [
        {
          "output_type": "stream",
          "name": "stdout",
          "text": [
            "('R4MA2007S', 'Linear Algebra', 'Sagar Rawool', 40)\n",
            "('R4CO2001T', 'Discrete Mathematics and Applications', 'Sandip Shingade', 40)\n",
            "('R4CO2002S', 'Digital Logic and Design', 'Varshapriya Jyotinagar', 40)\n",
            "('R4CO2003T', 'Data Structures and Algorithms', 'Mansi Kulkarni', 40)\n",
            "('R4CO2004S', 'Computer Organization and Architecture', 'Sachin Khedkar', 40)\n"
          ]
        }
      ]
    },
    {
      "cell_type": "code",
      "source": [
        "conn = sqlite3.connect(\"test9.db\")\n",
        "cur = conn.cursor()\n",
        "desired_mark = 40\n",
        "desired_subject = 'Data Structures and Algorithms'\n",
        "query = '''\n",
        "    SELECT Student.name\n",
        "    FROM Student\n",
        "    JOIN Marks ON Student.studentId = Marks.id\n",
        "    JOIN Subject ON Marks.subject = Subject.name\n",
        "    WHERE Marks.marks = ? AND Subject.name = ?\n",
        "'''\n",
        "cur.execute(query, (desired_mark, desired_subject))\n",
        "rows = cur.fetchall()\n",
        "\n",
        "if rows:\n",
        "    print(f\"Students who scored {desired_mark} in subject {desired_subject}:\")\n",
        "    for row in rows:\n",
        "        print(row[0])\n",
        "else:\n",
        "    print(\"No students found with the specified criteria.\")"
      ],
      "metadata": {
        "colab": {
          "base_uri": "https://localhost:8080/"
        },
        "id": "h7gasSNTJzNJ",
        "outputId": "70ff32c5-15da-4aca-c534-1bc051e49f25"
      },
      "execution_count": 11,
      "outputs": [
        {
          "output_type": "stream",
          "name": "stdout",
          "text": [
            "Students who scored 40 in subject Data Structures and Algorithms:\n",
            "Mihir\n",
            "Aryan\n",
            "Anish\n"
          ]
        }
      ]
    },
    {
      "cell_type": "code",
      "source": [
        "conn = sqlite3.connect(\"test9.db\")\n",
        "cur = conn.cursor()\n",
        "cur.execute('''\n",
        "UPDATE Marks\n",
        "SET marks = ?\n",
        "WHERE id = ? AND subject = ?\n",
        "''', (40, 73, 'Data Structures and Algorithms'))\n",
        "conn.commit()\n",
        "\n",
        "if cur.rowcount > 0:\n",
        "    print(\"Row with id 73 updated successfully.\")\n",
        "else:\n",
        "    print(\"No rows updated for id.\")\n",
        "\n",
        "conn.close()"
      ],
      "metadata": {
        "colab": {
          "base_uri": "https://localhost:8080/"
        },
        "id": "COIJFoK1Prcv",
        "outputId": "d227afdb-61d8-4cd4-9ab0-81bfe716b5a7"
      },
      "execution_count": 12,
      "outputs": [
        {
          "output_type": "stream",
          "name": "stdout",
          "text": [
            "Row with id 73 updated successfully.\n"
          ]
        }
      ]
    },
    {
      "cell_type": "code",
      "source": [
        "conn = sqlite3.connect(\"test9.db\")\n",
        "cur = conn.cursor()\n",
        "query = '''\n",
        "  SELECT marks FROM Marks\n",
        "  WHERE id in (73) AND subject in ('Data Structures and Algorithms');\n",
        "'''\n",
        "cur.execute(query)\n",
        "row = cur.fetchone()\n",
        "\n",
        "if row:\n",
        "  print(int(row[0]))\n",
        "\n",
        "else:\n",
        "  print(\"No data found.\")\n",
        "\n",
        "conn.close()"
      ],
      "metadata": {
        "colab": {
          "base_uri": "https://localhost:8080/"
        },
        "id": "s4_AC7gKJwmv",
        "outputId": "2cf6d6c4-3878-4dd0-a8b3-67986bbb918a"
      },
      "execution_count": 16,
      "outputs": [
        {
          "output_type": "stream",
          "name": "stdout",
          "text": [
            "40\n"
          ]
        }
      ]
    },
    {
      "cell_type": "code",
      "source": [
        "conn = sqlite3.connect(\"test9.db\")\n",
        "cur = conn.cursor()\n",
        "id = 20\n",
        "subject = 'Computer Organization and Architecture'\n",
        "query = '''\n",
        "DELETE from Marks\n",
        "WHERE id = ? AND subject = ?\n",
        "'''\n",
        "cur.execute(query, (id,subject))\n",
        "conn.commit()\n",
        "\n",
        "if cur.rowcount > 0:\n",
        "    print(f\"Row with id {id} and subject {subject} deleted successfully.\")\n",
        "else:\n",
        "    print(\"No rows deleted.\")\n",
        "\n",
        "conn.close()"
      ],
      "metadata": {
        "colab": {
          "base_uri": "https://localhost:8080/"
        },
        "id": "xIXz-LC8M8WU",
        "outputId": "0e0f413d-7e5c-4e53-9db2-f58e4c13987c"
      },
      "execution_count": 17,
      "outputs": [
        {
          "output_type": "stream",
          "name": "stdout",
          "text": [
            "Row with id 20 and subject Computer Organization and Architecture deleted successfully.\n"
          ]
        }
      ]
    },
    {
      "cell_type": "code",
      "source": [
        "conn = sqlite3.connect(\"test10.db\")\n",
        "cur = conn.cursor()\n",
        "id = 9\n",
        "subject = 'Computer Organization and Architecture'\n",
        "query = '''\n",
        "UPDATE Marks\n",
        "SET marks = NULL\n",
        "WHERE id = ? AND subject = ?\n",
        "'''\n",
        "cur.execute(query, (id,subject))\n",
        "conn.commit()\n",
        "\n",
        "if cur.rowcount > 0:\n",
        "    print(f\"Marks with id {id} and subject {subject} deleted successfully.\")\n",
        "else:\n",
        "    print(\"Nothing deleted.\")\n",
        "\n",
        "conn.close()"
      ],
      "metadata": {
        "colab": {
          "base_uri": "https://localhost:8080/"
        },
        "id": "hT2xfPQ_PgL2",
        "outputId": "cbf92fd6-f099-419d-f3b8-49b9ea7f3b65"
      },
      "execution_count": 23,
      "outputs": [
        {
          "output_type": "stream",
          "name": "stdout",
          "text": [
            "Marks with id 9 and subject Computer Organization and Architecture deleted successfully.\n"
          ]
        }
      ]
    }
  ]
}